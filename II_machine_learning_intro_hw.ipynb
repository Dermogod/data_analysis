{
 "cells": [
  {
   "cell_type": "markdown",
   "metadata": {},
   "source": [
    "### МАИ\n",
    "### ФИО студента: Меркулов Лев Владимирович\n",
    "### группа: Т120-101М-20\n",
    "### ФИО руководителя: Джумурат Александр\n",
    "### дата: 30.03.2021\n",
    "### ДЗ № 4, Линейная регрессия\n",
    "### Москва, 2021 г."
   ]
  },
  {
   "cell_type": "markdown",
   "metadata": {},
   "source": [
    "## Введение в машинное обучение: линейная регрессия"
   ]
  },
  {
   "cell_type": "markdown",
   "metadata": {},
   "source": [
    "Загрузка исходных данных"
   ]
  },
  {
   "cell_type": "code",
   "execution_count": 140,
   "metadata": {},
   "outputs": [
    {
     "name": "stdout",
     "output_type": "stream",
     "text": [
      "Фичи\n",
      "[[6.3200e-03 1.8000e+01 2.3100e+00 ... 1.5300e+01 3.9690e+02 4.9800e+00]\n",
      " [2.7310e-02 0.0000e+00 7.0700e+00 ... 1.7800e+01 3.9690e+02 9.1400e+00]\n",
      " [2.7290e-02 0.0000e+00 7.0700e+00 ... 1.7800e+01 3.9283e+02 4.0300e+00]\n",
      " ...\n",
      " [6.0760e-02 0.0000e+00 1.1930e+01 ... 2.1000e+01 3.9690e+02 5.6400e+00]\n",
      " [1.0959e-01 0.0000e+00 1.1930e+01 ... 2.1000e+01 3.9345e+02 6.4800e+00]\n",
      " [4.7410e-02 0.0000e+00 1.1930e+01 ... 2.1000e+01 3.9690e+02 7.8800e+00]]\n",
      "\n",
      "Целевая переменная y\n",
      "[24.  21.6 34.7 33.4 36.2 28.7 22.9 27.1 16.5 18.9]\n"
     ]
    }
   ],
   "source": [
    "from sklearn.datasets import load_boston\n",
    "\n",
    "boston_dataset = load_boston()\n",
    "\n",
    "features = boston_dataset.data\n",
    "y = boston_dataset.target\n",
    "print('Фичи')\n",
    "print(features)\n",
    "print('\\nЦелевая переменная y')\n",
    "print(y[:10])\n",
    "\n",
    "\n",
    "# текстовое описание датасета\n",
    "#print('\\n',boston_dataset.DESCR)"
   ]
  },
  {
   "cell_type": "markdown",
   "metadata": {},
   "source": [
    "## Задание 1\n",
    "\n",
    "Реализуйте формулу матричного умножения для вычисления коэффициентов линейной регрессии на языке python \n",
    "\n",
    "Нужно написать код для аналитического вычисления коэффициентов линейной регрессии по формуле $\\overline{w} = \\left(X^TX\\right)^{-1}X^T\\overline{y}$\n",
    "\n",
    "\n",
    "Сравните по евклидовому расстоянию коэффициенты из класса `LinearRegression` и полученные аналитическим способом"
   ]
  },
  {
   "cell_type": "code",
   "execution_count": 141,
   "metadata": {},
   "outputs": [
    {
     "name": "stdout",
     "output_type": "stream",
     "text": [
      "Аналитически определённые коэффициенты [ 3.64594884e+01 -1.08011358e-01  4.64204584e-02  2.05586264e-02\n",
      "  2.68673382e+00 -1.77666112e+01  3.80986521e+00  6.92224640e-04\n",
      " -1.47556685e+00  3.06049479e-01 -1.23345939e-02 -9.52747232e-01\n",
      "  9.31168327e-03 -5.24758378e-01]\n"
     ]
    }
   ],
   "source": [
    "from numpy.linalg import inv, norm\n",
    "import numpy as np\n",
    "from sklearn.linear_model import LinearRegression\n",
    "from scipy.spatial import distance\n",
    "\n",
    "# вычисляем к-ты линейной регрессии\n",
    "w_analytic = np.zeros(features.shape[1])\n",
    "#-------- ВАШ КОД ТУТ -------------------\n",
    "\n",
    "features = boston_dataset.data # матрица X\n",
    "\n",
    "o = np.ones(features.shape[0])\n",
    "features_ = np.c_[o,features]\n",
    "\n",
    "y = boston_dataset.target # таргет (целевая переменная)\n",
    "x = features_\n",
    "\n",
    "w_analytic = inv(x.T.dot(x)).dot(x.T).dot(y)\n",
    "\n",
    "#----------------------------------------\n",
    "\n",
    "print(f'Аналитически определённые коэффициенты {w_analytic}')"
   ]
  },
  {
   "cell_type": "markdown",
   "metadata": {},
   "source": [
    "Проверка по евклидовой метрике"
   ]
  },
  {
   "cell_type": "code",
   "execution_count": 91,
   "metadata": {},
   "outputs": [
    {
     "name": "stdout",
     "output_type": "stream",
     "text": [
      "Коэффициенты, вычисленные моделью sklearn [ 3.64594884e+01 -1.08011358e-01  4.64204584e-02  2.05586264e-02\n",
      "  2.68673382e+00 -1.77666112e+01  3.80986521e+00  6.92224640e-04\n",
      " -1.47556685e+00  3.06049479e-01 -1.23345939e-02 -9.52747232e-01\n",
      "  9.31168327e-03 -5.24758378e-01]\n",
      "Евклидово расстояние между наборами коэффициентов 3.071330495002441e-11\n",
      "\n"
     ]
    }
   ],
   "source": [
    "from numpy.linalg import inv, norm\n",
    "\n",
    "# обучаем модель \"из коробки\"\n",
    "reg = LinearRegression().fit(features, y)\n",
    "w_sklearn = np.append([reg.intercept_], reg.coef_)\n",
    "\n",
    "try:\n",
    "    linalg_norm = norm(w_sklearn - w_analytic)\n",
    "    print(f\"Коэффициенты, вычисленные моделью sklearn {w_sklearn}\")\n",
    "    print(f\"Евклидово расстояние между наборами коэффициентов {linalg_norm}\\n\")\n",
    "except:\n",
    "    print(\"!ВАЖНО!: к матрице фичей X нужно добавить столбец, который состоит из единиц\")\n",
    "    print(\"Это т.н. 'тривиальный' признак $x_0=1$\")"
   ]
  },
  {
   "cell_type": "markdown",
   "metadata": {},
   "source": [
    "Проверка на правильность"
   ]
  },
  {
   "cell_type": "code",
   "execution_count": 92,
   "metadata": {},
   "outputs": [
    {
     "name": "stderr",
     "output_type": "stream",
     "text": [
      "test_task (__main__.TestNotebook) ... ok\n",
      "\n",
      "----------------------------------------------------------------------\n",
      "Ran 1 test in 0.001s\n",
      "\n",
      "OK\n"
     ]
    },
    {
     "data": {
      "text/plain": [
       "<unittest.main.TestProgram at 0x7f2114692358>"
      ]
     },
     "execution_count": 92,
     "metadata": {},
     "output_type": "execute_result"
    }
   ],
   "source": [
    "import unittest\n",
    "\n",
    "\n",
    "class TestNotebook(unittest.TestCase):\n",
    "    def test_task(self):\n",
    "        self.assertAlmostEqual(linalg_norm, 0.000000, places=6)\n",
    "\n",
    "unittest.main(argv=[''], verbosity=2, exit=False)"
   ]
  },
  {
   "cell_type": "markdown",
   "metadata": {},
   "source": [
    "## Задание 2\n",
    "\n",
    "Визуализируйте в виде \"столбиков\" коэффициенты \"из коробки\" (т.е. из sklearn) и полученные аналитически на одном графике. Для наглядности используйте различную \"прозрачность\" столбиков"
   ]
  },
  {
   "cell_type": "code",
   "execution_count": 129,
   "metadata": {},
   "outputs": [
    {
     "data": {
      "text/plain": [
       "<matplotlib.legend.Legend at 0x7f2108a58358>"
      ]
     },
     "execution_count": 129,
     "metadata": {},
     "output_type": "execute_result"
    },
    {
     "data": {
      "image/png": "[encoded data removed]",
      "text/plain": [
       "<Figure size 432x288 with 1 Axes>"
      ]
     },
     "metadata": {
      "needs_background": "light"
     },
     "output_type": "display_data"
    }
   ],
   "source": [
    "from matplotlib import pyplot as plt\n",
    "%matplotlib inline\n",
    "\n",
    "#-------- ВАШ КОД ТУТ -------------------\n",
    "\n",
    "# графики полностью совпадают\n",
    "\n",
    "fig, subplot = plt.subplots()\n",
    "\n",
    "subplot.hist([w_sklearn, w_analytic], bins=10, alpha=0.9, label=['Predicted', 'Analytics'])\n",
    "\n",
    "fig.legend()\n",
    "\n",
    "#----------------------------------------"
   ]
  },
  {
   "cell_type": "markdown",
   "metadata": {},
   "source": [
    "## Задание 3\n",
    "\n",
    "Постройте предсказания двумя моделями\n",
    "\n",
    "* вашей моделью\n",
    "* моделью из библиотеки sklearn\n",
    "\n",
    "Посчитайте, какую ошибку $(\\hat{y}-y)$ даёт модели на каждом обучающем примере каждая из моделей и постройте две гистограммы на одном графике c наложением (одна должна \"просвечивать\" через другую)\n",
    "\n",
    "Если вы всё сделали правильно, гистограммы ошибок должны совпасть"
   ]
  },
  {
   "cell_type": "code",
   "execution_count": 149,
   "metadata": {},
   "outputs": [],
   "source": [
    "# модель sklearn\n",
    "y_pred = reg.predict(features)\n",
    "\n",
    "# аналитическая модель\n",
    "y_analytic = x.dot(w_analytic)\n",
    "\n",
    "# истинные значения\n",
    "y_true = y"
   ]
  },
  {
   "cell_type": "code",
   "execution_count": 150,
   "metadata": {},
   "outputs": [
    {
     "data": {
      "text/plain": [
       "<matplotlib.legend.Legend at 0x7f21087be6d8>"
      ]
     },
     "execution_count": 150,
     "metadata": {},
     "output_type": "execute_result"
    },
    {
     "data": {
      "image/png": "[encoded data removed]",
      "text/plain": [
       "<Figure size 432x288 with 1 Axes>"
      ]
     },
     "metadata": {
      "needs_background": "light"
     },
     "output_type": "display_data"
    }
   ],
   "source": [
    "#-------- ВАШ КОД ТУТ -------------------\n",
    "fig, subplot = plt.subplots()\n",
    "\n",
    "subplot.hist([y_pred - y_true, y_analytic - y_true], label=['Sklearn', 'Analytics'], alpha=0.9)\n",
    "\n",
    "subplot.set_title('Распределение ошибок')\n",
    "subplot.set_xlabel('Величина ошибки')\n",
    "subplot.set_ylabel('Количество таких ошибок')\n",
    "fig.legend()\n",
    "#----------------------------------------"
   ]
  },
  {
   "cell_type": "markdown",
   "metadata": {},
   "source": [
    "**Гистограммы совпали**"
   ]
  },
  {
   "cell_type": "code",
   "execution_count": null,
   "metadata": {},
   "outputs": [],
   "source": []
  }
 ],
 "metadata": {
  "kernelspec": {
   "display_name": "Python 3",
   "language": "python",
   "name": "python3"
  },
  "language_info": {
   "codemirror_mode": {
    "name": "ipython",
    "version": 3
   },
   "file_extension": ".py",
   "mimetype": "text/x-python",
   "name": "python",
   "nbconvert_exporter": "python",
   "pygments_lexer": "ipython3",
   "version": "3.6.9"
  }
 },
 "nbformat": 4,
 "nbformat_minor": 4
}
