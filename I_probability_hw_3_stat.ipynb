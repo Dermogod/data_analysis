{
 "cells": [
  {
   "cell_type": "markdown",
   "metadata": {},
   "source": [
    "### МАИ\n",
    "### ФИО студента: Меркулов Лев Владимирович\n",
    "### группа: Т120-101М-20\n",
    "### ФИО руководителя: Джумурат Александр\n",
    "### дата: 23.03.2021\n",
    "### ДЗ № 3, Аналитика\n",
    "### Москва, 2021 г."
   ]
  },
  {
   "cell_type": "markdown",
   "metadata": {},
   "source": [
    "# Домашняя работа \"Аналитика\"\n",
    "\n",
    "# Часть I: исходные данные\n",
    "\n",
    "### Задача 1: Конверсия в просмотр"
   ]
  },
  {
   "cell_type": "markdown",
   "metadata": {},
   "source": [
    "Напишите запрос, который сравнит конверсию в просмотр между двумя странами: Россия и Украина\n",
    "\n",
    "* сгруппируйте данные по полям страна + день\n",
    "* исключите просмотры, которые были совершены в субботу и воскресенье"
   ]
  },
  {
   "cell_type": "code",
   "execution_count": 5,
   "metadata": {},
   "outputs": [
    {
     "data": {
      "text/html": [
       "<div>\n",
       "<style scoped>\n",
       "    .dataframe tbody tr th:only-of-type {\n",
       "        vertical-align: middle;\n",
       "    }\n",
       "\n",
       "    .dataframe tbody tr th {\n",
       "        vertical-align: top;\n",
       "    }\n",
       "\n",
       "    .dataframe thead th {\n",
       "        text-align: right;\n",
       "    }\n",
       "</style>\n",
       "<table border=\"1\" class=\"dataframe\">\n",
       "  <thead>\n",
       "    <tr style=\"text-align: right;\">\n",
       "      <th></th>\n",
       "      <th>conversion</th>\n",
       "      <th>dow</th>\n",
       "      <th>country</th>\n",
       "    </tr>\n",
       "  </thead>\n",
       "  <tbody>\n",
       "    <tr>\n",
       "      <th>0</th>\n",
       "      <td>0.383954</td>\n",
       "      <td>1</td>\n",
       "      <td>Россия</td>\n",
       "    </tr>\n",
       "    <tr>\n",
       "      <th>1</th>\n",
       "      <td>0.366715</td>\n",
       "      <td>1</td>\n",
       "      <td>Украина</td>\n",
       "    </tr>\n",
       "    <tr>\n",
       "      <th>2</th>\n",
       "      <td>0.378882</td>\n",
       "      <td>2</td>\n",
       "      <td>Россия</td>\n",
       "    </tr>\n",
       "    <tr>\n",
       "      <th>3</th>\n",
       "      <td>0.373813</td>\n",
       "      <td>2</td>\n",
       "      <td>Украина</td>\n",
       "    </tr>\n",
       "    <tr>\n",
       "      <th>4</th>\n",
       "      <td>0.373153</td>\n",
       "      <td>3</td>\n",
       "      <td>Россия</td>\n",
       "    </tr>\n",
       "    <tr>\n",
       "      <th>5</th>\n",
       "      <td>0.400766</td>\n",
       "      <td>3</td>\n",
       "      <td>Украина</td>\n",
       "    </tr>\n",
       "    <tr>\n",
       "      <th>6</th>\n",
       "      <td>0.386308</td>\n",
       "      <td>4</td>\n",
       "      <td>Россия</td>\n",
       "    </tr>\n",
       "    <tr>\n",
       "      <th>7</th>\n",
       "      <td>0.362606</td>\n",
       "      <td>4</td>\n",
       "      <td>Украина</td>\n",
       "    </tr>\n",
       "    <tr>\n",
       "      <th>8</th>\n",
       "      <td>0.376669</td>\n",
       "      <td>5</td>\n",
       "      <td>Россия</td>\n",
       "    </tr>\n",
       "    <tr>\n",
       "      <th>9</th>\n",
       "      <td>0.437662</td>\n",
       "      <td>5</td>\n",
       "      <td>Украина</td>\n",
       "    </tr>\n",
       "  </tbody>\n",
       "</table>\n",
       "</div>"
      ],
      "text/plain": [
       "   conversion dow  country\n",
       "0    0.383954   1   Россия\n",
       "1    0.366715   1  Украина\n",
       "2    0.378882   2   Россия\n",
       "3    0.373813   2  Украина\n",
       "4    0.373153   3   Россия\n",
       "5    0.400766   3  Украина\n",
       "6    0.386308   4   Россия\n",
       "7    0.362606   4  Украина\n",
       "8    0.376669   5   Россия\n",
       "9    0.437662   5  Украина"
      ]
     },
     "execution_count": 5,
     "metadata": {},
     "output_type": "execute_result"
    }
   ],
   "source": [
    "import os\n",
    "import pandas as pd\n",
    "from sqlalchemy import create_engine\n",
    "\n",
    "\n",
    "postgres_host = '127.0.0.1' #'178.154.200.231' #os.environ['APP_POSTGRES_HOST']\n",
    "database = 'postgres'\n",
    "port = '5433'\n",
    "user = 'mai'\n",
    "password = '1930'\n",
    "\n",
    "engine = create_engine(\n",
    "    f'postgresql://{user}:{password}@{postgres_host}:{port}/{database}'\n",
    ")\n",
    "\n",
    "# ----- ВАШ КОД ТУТ  -------\n",
    "\n",
    "\n",
    "sql_str = \"\"\"\n",
    "SELECT\n",
    "    SUM(content_watch)::float / SUM(content_impression)::float as conversion,\n",
    "    dow,\n",
    "    country\n",
    "FROM (\n",
    "    SELECT\n",
    "        user_id_for_mai,\n",
    "        content_id,\n",
    "        to_char(to_timestamp(rocket_datetime), 'ID') as dow,\n",
    "        country,\n",
    "        MAX(CASE WHEN name in ('page_impression', 'click') THEN 1 ELSE 0 END) as content_impression,\n",
    "        MAX(CASE WHEN name='content_watch' THEN 1 ELSE 0 END) as content_watch\n",
    "    FROM \n",
    "        movie.events \n",
    "    WHERE\n",
    "        content_id > 0 AND country IN ('Россия','Украина')\n",
    "    GROUP BY \n",
    "        user_id_for_mai, content_id, dow, country\n",
    "    ORDER BY \n",
    "        dow\n",
    ") as tmp\n",
    "WHERE\n",
    "    dow NOT IN ('6', '7') AND content_impression > 0\n",
    "GROUP BY\n",
    "    dow, country\n",
    "\"\"\"\n",
    "\n",
    "# ----- ВАШ КОД ТУТ  -------\n",
    "\n",
    "conversion_df_UR = pd.read_sql(sql_str, engine)\n",
    "conversion_df_UR"
   ]
  },
  {
   "cell_type": "markdown",
   "metadata": {},
   "source": [
    "Визуализация: постройте графики изменения конверсии по дням"
   ]
  },
  {
   "cell_type": "code",
   "execution_count": 6,
   "metadata": {},
   "outputs": [
    {
     "data": {
      "text/plain": [
       "<AxesSubplot:xlabel='dow'>"
      ]
     },
     "execution_count": 6,
     "metadata": {},
     "output_type": "execute_result"
    },
    {
     "data": {
      "image/png": "[encoded data removed]",
      "text/plain": [
       "<Figure size 432x288 with 1 Axes>"
      ]
     },
     "metadata": {
      "needs_background": "light"
     },
     "output_type": "display_data"
    }
   ],
   "source": [
    "# ----- ВАШ КОД ТУТ  -------\n",
    "%matplotlib inline\n",
    "\n",
    "df1 = conversion_df_UR[conversion_df_UR['country']=='Россия']\n",
    "df2 = conversion_df_UR[conversion_df_UR['country']=='Украина']\n",
    "\n",
    "\n",
    "ax = df1.plot(x='dow', y='conversion', label='Russia')\n",
    "df2.plot(x='dow', y='conversion', ax=ax, label='Ukraine')\n",
    "# --------------------------"
   ]
  },
  {
   "cell_type": "markdown",
   "metadata": {},
   "source": [
    "Визуализация: постройте гистограмму распределения конверсии"
   ]
  },
  {
   "cell_type": "code",
   "execution_count": 62,
   "metadata": {},
   "outputs": [
    {
     "data": {
      "text/plain": [
       "<AxesSubplot:ylabel='Frequency'>"
      ]
     },
     "execution_count": 62,
     "metadata": {},
     "output_type": "execute_result"
    },
    {
     "data": {
      "image/png": "[encoded data removed]",
      "text/plain": [
       "<Figure size 432x288 with 1 Axes>"
      ]
     },
     "metadata": {
      "needs_background": "light"
     },
     "output_type": "display_data"
    }
   ],
   "source": [
    "conversion_df_UR[\n",
    "    conversion_df_UR['country']=='Россия'\n",
    "]['conversion'].plot(kind='hist', alpha=0.5, bins=13, label='Russia', legend=True)\n",
    "\n",
    "conversion_df_UR[\n",
    "    conversion_df_UR['country']=='Украина'\n",
    "]['conversion'].plot(kind='hist', alpha=0.5, bins=13, label='Ukraine', legend=True)"
   ]
  },
  {
   "cell_type": "markdown",
   "metadata": {},
   "source": [
    "### **Задача** с лекции: конверсия с Windows и Xbox"
   ]
  },
  {
   "cell_type": "markdown",
   "metadata": {},
   "source": [
    "Например, рассмотрим продуктовую метрику \"конверсия из показа карточки контента в просмотр\":  \n",
    "* пользователь заходит на главную страницу ivi\n",
    "* рекомендательная система показывает постеры нескольких карточек контента\n",
    "* если рекомендательная система угадалы вкусы пользователя - начинается просмотр контента. Если выдача рекомендаций пользователю не подходит - событие \"просмотр контента\" не возникает\n",
    "\n",
    "![main_page_ivi](img/main_page_ivi.png)\n",
    "\n",
    "Вычислим эту метрику с помощью SQL на основании данных событийной аналитики\n",
    "* берём только события с платформ `xboxOne` и `Windows 10`\n",
    "* тип события `page_impression` (показ контента) и `click` (клик по постеру)\n",
    "* валидация событий: просмотры, у которых отсутствует `impression` из выборки исключаем\n",
    "* считаем конверсию по датам в разбивке по платформам\n",
    "\n",
    "Цель исследования - понять, есть ли отличия в конверсии между просмотрами на платформах `xboxOne` и `Windows 10`"
   ]
  },
  {
   "cell_type": "code",
   "execution_count": 69,
   "metadata": {},
   "outputs": [
    {
     "data": {
      "text/html": [
       "<div>\n",
       "<style scoped>\n",
       "    .dataframe tbody tr th:only-of-type {\n",
       "        vertical-align: middle;\n",
       "    }\n",
       "\n",
       "    .dataframe tbody tr th {\n",
       "        vertical-align: top;\n",
       "    }\n",
       "\n",
       "    .dataframe thead th {\n",
       "        text-align: right;\n",
       "    }\n",
       "</style>\n",
       "<table border=\"1\" class=\"dataframe\">\n",
       "  <thead>\n",
       "    <tr style=\"text-align: right;\">\n",
       "      <th></th>\n",
       "      <th>date</th>\n",
       "      <th>subsite_title</th>\n",
       "      <th>conversion</th>\n",
       "    </tr>\n",
       "  </thead>\n",
       "  <tbody>\n",
       "    <tr>\n",
       "      <th>0</th>\n",
       "      <td>2019-06-01</td>\n",
       "      <td>Windows 10</td>\n",
       "      <td>0.197802</td>\n",
       "    </tr>\n",
       "    <tr>\n",
       "      <th>1</th>\n",
       "      <td>2019-06-01</td>\n",
       "      <td>xboxOne</td>\n",
       "      <td>0.200704</td>\n",
       "    </tr>\n",
       "    <tr>\n",
       "      <th>2</th>\n",
       "      <td>2019-06-02</td>\n",
       "      <td>Windows 10</td>\n",
       "      <td>0.287532</td>\n",
       "    </tr>\n",
       "    <tr>\n",
       "      <th>3</th>\n",
       "      <td>2019-06-02</td>\n",
       "      <td>xboxOne</td>\n",
       "      <td>0.270677</td>\n",
       "    </tr>\n",
       "    <tr>\n",
       "      <th>4</th>\n",
       "      <td>2019-06-03</td>\n",
       "      <td>Windows 10</td>\n",
       "      <td>0.439331</td>\n",
       "    </tr>\n",
       "  </tbody>\n",
       "</table>\n",
       "</div>"
      ],
      "text/plain": [
       "         date subsite_title  conversion\n",
       "0  2019-06-01    Windows 10    0.197802\n",
       "1  2019-06-01       xboxOne    0.200704\n",
       "2  2019-06-02    Windows 10    0.287532\n",
       "3  2019-06-02       xboxOne    0.270677\n",
       "4  2019-06-03    Windows 10    0.439331"
      ]
     },
     "execution_count": 69,
     "metadata": {},
     "output_type": "execute_result"
    }
   ],
   "source": [
    "import os\n",
    "import pandas as pd\n",
    "from sqlalchemy import create_engine\n",
    "\n",
    "\n",
    "postgres_host = '127.0.0.1' #os.environ['APP_POSTGRES_HOST'] # '40.89.151.14' #os.environ['APP_POSTGRES_HOST']\n",
    "database = 'postgres'\n",
    "port = '5433' #os.environ['APP_POSTGRES_PORT'] # '5433'\n",
    "user = 'mai'\n",
    "password = '1930'\n",
    "\n",
    "engine = create_engine(\n",
    "    f'postgresql://{user}:{password}@{postgres_host}:{port}/{database}'\n",
    ")\n",
    "\n",
    "sql_str = \"\"\"\n",
    "SELECT\n",
    "    date,\n",
    "    subsite_title,\n",
    "    SUM(content_watch)::float / SUM(content_impression)::float as conversion\n",
    "FROM (\n",
    "    SELECT\n",
    "        user_id_for_mai,\n",
    "        content_id,\n",
    "        subsite_title,\n",
    "        to_char(to_timestamp(rocket_datetime), 'YYYY-MM-DD') as date,\n",
    "        MAX(CASE WHEN name in ('page_impression', 'click') THEN 1 ELSE 0 END) as content_impression,\n",
    "        MAX(CASE WHEN name='content_watch' THEN 1 ELSE 0 END) as content_watch\n",
    "    FROM movie.events\n",
    "    WHERE\n",
    "        content_id > 0\n",
    "        AND subsite_title in ('xboxOne', 'Windows 10')\n",
    "    GROUP BY user_id_for_mai, content_id, date, subsite_title\n",
    ") as content_watches\n",
    "WHERE\n",
    "    content_impression > 0\n",
    "GROUP BY date, subsite_title\n",
    "ORDER BY date, subsite_title\n",
    "\"\"\"\n",
    "\n",
    "conversion_df_WX = pd.read_sql(sql_str, engine)\n",
    "\n",
    "conversion_df_WX.head()"
   ]
  },
  {
   "cell_type": "code",
   "execution_count": 72,
   "metadata": {},
   "outputs": [
    {
     "data": {
      "text/plain": [
       "<AxesSubplot:ylabel='Frequency'>"
      ]
     },
     "execution_count": 72,
     "metadata": {},
     "output_type": "execute_result"
    },
    {
     "data": {
      "image/png": "[encoded data removed]",
      "text/plain": [
       "<Figure size 432x288 with 1 Axes>"
      ]
     },
     "metadata": {
      "needs_background": "light"
     },
     "output_type": "display_data"
    }
   ],
   "source": [
    "conversion_df_WX[\n",
    "    conversion_df_WX['subsite_title']=='Windows 10'\n",
    "]['conversion'].plot(kind='hist', alpha=0.5, bins=13, label='Windows', legend=True)\n",
    "\n",
    "conversion_df_WX[\n",
    "    conversion_df_WX['subsite_title']=='xboxOne'\n",
    "]['conversion'].plot(kind='hist', alpha=0.5, bins=13, label='xbox', legend=True)"
   ]
  },
  {
   "cell_type": "markdown",
   "metadata": {},
   "source": [
    "### Задача 2:  Retention\n",
    "\n",
    "Посчитайте возвращаемость (недельную) пользователей на сервис на день X\n",
    "\n",
    "* найдите множество $y1$ пользователей, которые заходили в период от $X-14$ до $X-7$\n",
    "* найдите множество $y2$, которые заходили в период от $X-6$ до $X$\n",
    "* найдите пересечение множеств $y1$ и $y2$ и разделите его на объединение этих множеств - это и будет наша метрика retention"
   ]
  },
  {
   "cell_type": "markdown",
   "metadata": {},
   "source": [
    "Пример вычисления retention на конкретную дату доступен на youtube: https://youtu.be/Nds_9ZTihIY"
   ]
  },
  {
   "cell_type": "markdown",
   "metadata": {},
   "source": [
    "```mysql\n",
    "SELECT\n",
    "    '2019-08-01' retention_date,\n",
    "    COUNT(user_id_for_mai) previous_week_user_count,\n",
    "    SUM(current_week) current_week_user_count,\n",
    "    SUM(current_week) / SUM(previous_week)::float retention\n",
    "FROM (\n",
    "    SELECT\n",
    "        user_id_for_mai,\n",
    "        MAX(\n",
    "            CASE\n",
    "                WHEN (date <= '2019-07-25' and date > '2019-07-18') THEN 1\n",
    "                ELSE 0\n",
    "            END\n",
    "        ) as previous_week,\n",
    "        MAX(\n",
    "            CASE\n",
    "                WHEN (date <= '2019-08-01' and date > '2019-07-25') THEN 1\n",
    "                ELSE 0\n",
    "            END\n",
    "        ) as current_week\n",
    "    FROM (\n",
    "        SELECT\n",
    "            to_char(to_timestamp(rocket_datetime), 'YYYY-MM-DD') as date,\n",
    "            rocket_datetime,\n",
    "            user_id_for_mai\n",
    "        FROM movie.events\n",
    "    ) as raw_stat\n",
    "    WHERE\n",
    "        (date <= '2019-08-01' and date > '2019-07-25')\n",
    "        OR (date <= '2019-07-25' and date > '2019-07-18')\n",
    "    GROUP BY user_id_for_mai\n",
    ") as agg_stat\n",
    "WHERE\n",
    "    previous_week = 1;\n",
    "\n",
    "```"
   ]
  },
  {
   "cell_type": "code",
   "execution_count": 23,
   "metadata": {},
   "outputs": [
    {
     "data": {
      "text/html": [
       "<div>\n",
       "<style scoped>\n",
       "    .dataframe tbody tr th:only-of-type {\n",
       "        vertical-align: middle;\n",
       "    }\n",
       "\n",
       "    .dataframe tbody tr th {\n",
       "        vertical-align: top;\n",
       "    }\n",
       "\n",
       "    .dataframe thead th {\n",
       "        text-align: right;\n",
       "    }\n",
       "</style>\n",
       "<table border=\"1\" class=\"dataframe\">\n",
       "  <thead>\n",
       "    <tr style=\"text-align: right;\">\n",
       "      <th></th>\n",
       "      <th>week_num</th>\n",
       "      <th>subsite_title</th>\n",
       "      <th>current_week_user_count</th>\n",
       "      <th>returns</th>\n",
       "      <th>prev_week_user_count</th>\n",
       "      <th>retention</th>\n",
       "    </tr>\n",
       "  </thead>\n",
       "  <tbody>\n",
       "    <tr>\n",
       "      <th>0</th>\n",
       "      <td>22</td>\n",
       "      <td>Windows 10</td>\n",
       "      <td>194</td>\n",
       "      <td>0</td>\n",
       "      <td>NaN</td>\n",
       "      <td>NaN</td>\n",
       "    </tr>\n",
       "    <tr>\n",
       "      <th>1</th>\n",
       "      <td>22</td>\n",
       "      <td>xboxOne</td>\n",
       "      <td>149</td>\n",
       "      <td>0</td>\n",
       "      <td>NaN</td>\n",
       "      <td>NaN</td>\n",
       "    </tr>\n",
       "    <tr>\n",
       "      <th>2</th>\n",
       "      <td>23</td>\n",
       "      <td>Windows 10</td>\n",
       "      <td>722</td>\n",
       "      <td>61</td>\n",
       "      <td>194.0</td>\n",
       "      <td>0.314433</td>\n",
       "    </tr>\n",
       "    <tr>\n",
       "      <th>3</th>\n",
       "      <td>23</td>\n",
       "      <td>xboxOne</td>\n",
       "      <td>464</td>\n",
       "      <td>54</td>\n",
       "      <td>149.0</td>\n",
       "      <td>0.362416</td>\n",
       "    </tr>\n",
       "    <tr>\n",
       "      <th>4</th>\n",
       "      <td>24</td>\n",
       "      <td>Windows 10</td>\n",
       "      <td>863</td>\n",
       "      <td>164</td>\n",
       "      <td>722.0</td>\n",
       "      <td>0.227147</td>\n",
       "    </tr>\n",
       "    <tr>\n",
       "      <th>5</th>\n",
       "      <td>24</td>\n",
       "      <td>xboxOne</td>\n",
       "      <td>611</td>\n",
       "      <td>164</td>\n",
       "      <td>464.0</td>\n",
       "      <td>0.353448</td>\n",
       "    </tr>\n",
       "    <tr>\n",
       "      <th>6</th>\n",
       "      <td>25</td>\n",
       "      <td>Windows 10</td>\n",
       "      <td>943</td>\n",
       "      <td>214</td>\n",
       "      <td>863.0</td>\n",
       "      <td>0.247972</td>\n",
       "    </tr>\n",
       "    <tr>\n",
       "      <th>7</th>\n",
       "      <td>25</td>\n",
       "      <td>xboxOne</td>\n",
       "      <td>690</td>\n",
       "      <td>227</td>\n",
       "      <td>611.0</td>\n",
       "      <td>0.371522</td>\n",
       "    </tr>\n",
       "    <tr>\n",
       "      <th>8</th>\n",
       "      <td>26</td>\n",
       "      <td>Windows 10</td>\n",
       "      <td>1045</td>\n",
       "      <td>269</td>\n",
       "      <td>943.0</td>\n",
       "      <td>0.285260</td>\n",
       "    </tr>\n",
       "    <tr>\n",
       "      <th>9</th>\n",
       "      <td>26</td>\n",
       "      <td>xboxOne</td>\n",
       "      <td>785</td>\n",
       "      <td>300</td>\n",
       "      <td>690.0</td>\n",
       "      <td>0.434783</td>\n",
       "    </tr>\n",
       "    <tr>\n",
       "      <th>10</th>\n",
       "      <td>27</td>\n",
       "      <td>Windows 10</td>\n",
       "      <td>1143</td>\n",
       "      <td>314</td>\n",
       "      <td>1045.0</td>\n",
       "      <td>0.300478</td>\n",
       "    </tr>\n",
       "    <tr>\n",
       "      <th>11</th>\n",
       "      <td>27</td>\n",
       "      <td>xboxOne</td>\n",
       "      <td>883</td>\n",
       "      <td>347</td>\n",
       "      <td>785.0</td>\n",
       "      <td>0.442038</td>\n",
       "    </tr>\n",
       "    <tr>\n",
       "      <th>12</th>\n",
       "      <td>28</td>\n",
       "      <td>Windows 10</td>\n",
       "      <td>1303</td>\n",
       "      <td>390</td>\n",
       "      <td>1143.0</td>\n",
       "      <td>0.341207</td>\n",
       "    </tr>\n",
       "    <tr>\n",
       "      <th>13</th>\n",
       "      <td>28</td>\n",
       "      <td>xboxOne</td>\n",
       "      <td>913</td>\n",
       "      <td>386</td>\n",
       "      <td>883.0</td>\n",
       "      <td>0.437146</td>\n",
       "    </tr>\n",
       "    <tr>\n",
       "      <th>14</th>\n",
       "      <td>29</td>\n",
       "      <td>Windows 10</td>\n",
       "      <td>1330</td>\n",
       "      <td>448</td>\n",
       "      <td>1303.0</td>\n",
       "      <td>0.343822</td>\n",
       "    </tr>\n",
       "    <tr>\n",
       "      <th>15</th>\n",
       "      <td>29</td>\n",
       "      <td>xboxOne</td>\n",
       "      <td>1031</td>\n",
       "      <td>400</td>\n",
       "      <td>913.0</td>\n",
       "      <td>0.438116</td>\n",
       "    </tr>\n",
       "    <tr>\n",
       "      <th>16</th>\n",
       "      <td>30</td>\n",
       "      <td>Windows 10</td>\n",
       "      <td>1418</td>\n",
       "      <td>492</td>\n",
       "      <td>1330.0</td>\n",
       "      <td>0.369925</td>\n",
       "    </tr>\n",
       "    <tr>\n",
       "      <th>17</th>\n",
       "      <td>30</td>\n",
       "      <td>xboxOne</td>\n",
       "      <td>1071</td>\n",
       "      <td>455</td>\n",
       "      <td>1031.0</td>\n",
       "      <td>0.441319</td>\n",
       "    </tr>\n",
       "    <tr>\n",
       "      <th>18</th>\n",
       "      <td>31</td>\n",
       "      <td>Windows 10</td>\n",
       "      <td>1542</td>\n",
       "      <td>506</td>\n",
       "      <td>1418.0</td>\n",
       "      <td>0.356841</td>\n",
       "    </tr>\n",
       "    <tr>\n",
       "      <th>19</th>\n",
       "      <td>31</td>\n",
       "      <td>xboxOne</td>\n",
       "      <td>1196</td>\n",
       "      <td>481</td>\n",
       "      <td>1071.0</td>\n",
       "      <td>0.449113</td>\n",
       "    </tr>\n",
       "    <tr>\n",
       "      <th>20</th>\n",
       "      <td>32</td>\n",
       "      <td>Windows 10</td>\n",
       "      <td>1619</td>\n",
       "      <td>533</td>\n",
       "      <td>1542.0</td>\n",
       "      <td>0.345655</td>\n",
       "    </tr>\n",
       "    <tr>\n",
       "      <th>21</th>\n",
       "      <td>32</td>\n",
       "      <td>xboxOne</td>\n",
       "      <td>1233</td>\n",
       "      <td>587</td>\n",
       "      <td>1196.0</td>\n",
       "      <td>0.490803</td>\n",
       "    </tr>\n",
       "    <tr>\n",
       "      <th>22</th>\n",
       "      <td>33</td>\n",
       "      <td>Windows 10</td>\n",
       "      <td>1858</td>\n",
       "      <td>571</td>\n",
       "      <td>1619.0</td>\n",
       "      <td>0.352687</td>\n",
       "    </tr>\n",
       "    <tr>\n",
       "      <th>23</th>\n",
       "      <td>33</td>\n",
       "      <td>xboxOne</td>\n",
       "      <td>1301</td>\n",
       "      <td>587</td>\n",
       "      <td>1233.0</td>\n",
       "      <td>0.476075</td>\n",
       "    </tr>\n",
       "    <tr>\n",
       "      <th>24</th>\n",
       "      <td>34</td>\n",
       "      <td>Windows 10</td>\n",
       "      <td>2065</td>\n",
       "      <td>706</td>\n",
       "      <td>1858.0</td>\n",
       "      <td>0.379978</td>\n",
       "    </tr>\n",
       "    <tr>\n",
       "      <th>25</th>\n",
       "      <td>34</td>\n",
       "      <td>xboxOne</td>\n",
       "      <td>1307</td>\n",
       "      <td>627</td>\n",
       "      <td>1301.0</td>\n",
       "      <td>0.481937</td>\n",
       "    </tr>\n",
       "    <tr>\n",
       "      <th>26</th>\n",
       "      <td>35</td>\n",
       "      <td>Windows 10</td>\n",
       "      <td>1945</td>\n",
       "      <td>674</td>\n",
       "      <td>2065.0</td>\n",
       "      <td>0.326392</td>\n",
       "    </tr>\n",
       "    <tr>\n",
       "      <th>27</th>\n",
       "      <td>35</td>\n",
       "      <td>xboxOne</td>\n",
       "      <td>1283</td>\n",
       "      <td>643</td>\n",
       "      <td>1307.0</td>\n",
       "      <td>0.491966</td>\n",
       "    </tr>\n",
       "  </tbody>\n",
       "</table>\n",
       "</div>"
      ],
      "text/plain": [
       "    week_num subsite_title  current_week_user_count  returns  \\\n",
       "0         22    Windows 10                      194        0   \n",
       "1         22       xboxOne                      149        0   \n",
       "2         23    Windows 10                      722       61   \n",
       "3         23       xboxOne                      464       54   \n",
       "4         24    Windows 10                      863      164   \n",
       "5         24       xboxOne                      611      164   \n",
       "6         25    Windows 10                      943      214   \n",
       "7         25       xboxOne                      690      227   \n",
       "8         26    Windows 10                     1045      269   \n",
       "9         26       xboxOne                      785      300   \n",
       "10        27    Windows 10                     1143      314   \n",
       "11        27       xboxOne                      883      347   \n",
       "12        28    Windows 10                     1303      390   \n",
       "13        28       xboxOne                      913      386   \n",
       "14        29    Windows 10                     1330      448   \n",
       "15        29       xboxOne                     1031      400   \n",
       "16        30    Windows 10                     1418      492   \n",
       "17        30       xboxOne                     1071      455   \n",
       "18        31    Windows 10                     1542      506   \n",
       "19        31       xboxOne                     1196      481   \n",
       "20        32    Windows 10                     1619      533   \n",
       "21        32       xboxOne                     1233      587   \n",
       "22        33    Windows 10                     1858      571   \n",
       "23        33       xboxOne                     1301      587   \n",
       "24        34    Windows 10                     2065      706   \n",
       "25        34       xboxOne                     1307      627   \n",
       "26        35    Windows 10                     1945      674   \n",
       "27        35       xboxOne                     1283      643   \n",
       "\n",
       "    prev_week_user_count  retention  \n",
       "0                    NaN        NaN  \n",
       "1                    NaN        NaN  \n",
       "2                  194.0   0.314433  \n",
       "3                  149.0   0.362416  \n",
       "4                  722.0   0.227147  \n",
       "5                  464.0   0.353448  \n",
       "6                  863.0   0.247972  \n",
       "7                  611.0   0.371522  \n",
       "8                  943.0   0.285260  \n",
       "9                  690.0   0.434783  \n",
       "10                1045.0   0.300478  \n",
       "11                 785.0   0.442038  \n",
       "12                1143.0   0.341207  \n",
       "13                 883.0   0.437146  \n",
       "14                1303.0   0.343822  \n",
       "15                 913.0   0.438116  \n",
       "16                1330.0   0.369925  \n",
       "17                1031.0   0.441319  \n",
       "18                1418.0   0.356841  \n",
       "19                1071.0   0.449113  \n",
       "20                1542.0   0.345655  \n",
       "21                1196.0   0.490803  \n",
       "22                1619.0   0.352687  \n",
       "23                1233.0   0.476075  \n",
       "24                1858.0   0.379978  \n",
       "25                1301.0   0.481937  \n",
       "26                2065.0   0.326392  \n",
       "27                1307.0   0.491966  "
      ]
     },
     "execution_count": 23,
     "metadata": {},
     "output_type": "execute_result"
    }
   ],
   "source": [
    "# ----- ВАШ КОД ТУТ  -------\n",
    "import os\n",
    "import pandas as pd\n",
    "from sqlalchemy import create_engine\n",
    "\n",
    "\n",
    "postgres_host = '127.0.0.1' #'178.154.200.231' #os.environ['APP_POSTGRES_HOST']\n",
    "database = 'postgres'\n",
    "port = '5433'\n",
    "user = 'mai'\n",
    "password = '1930'\n",
    "\n",
    "engine = create_engine(\n",
    "    f'postgresql://{user}:{password}@{postgres_host}:{port}/{database}'\n",
    ")\n",
    "\n",
    "sql_str =\"\"\"\n",
    "WITH row_stat as (\n",
    "SELECT \n",
    "    user_id_for_mai,\n",
    "    EXTRACT (WEEK from date) as week_num,\n",
    "    subsite_title\n",
    "FROM(\n",
    "    SELECT \n",
    "        to_char(to_timestamp(rocket_datetime), 'YYYY-MM-DD')::DATE as date,\n",
    "        user_id_for_mai,\n",
    "        subsite_title\n",
    "    FROM \n",
    "        movie.events\n",
    "    WHERE \n",
    "        subsite_title in ('xboxOne', 'Windows 10')\n",
    "    ORDER BY \n",
    "        date ASC\n",
    "    ) raw_stat\n",
    "GROUP BY week_num, user_id_for_mai, subsite_title\n",
    "ORDER BY week_num ASC\n",
    ")\n",
    ",\n",
    "agg_stat as (\n",
    "SELECT\n",
    "    week_num::int,\n",
    "    subsite_title,\n",
    "    COUNT(user_id_for_mai) as current_week_user_count, \n",
    "    SUM(prev_week) as returns\n",
    "FROM(\n",
    "    SELECT\n",
    "        user_id_for_mai,\n",
    "        week_num,\n",
    "        subsite_title,\n",
    "        CASE WHEN \n",
    "            LAG(week_num, 1) OVER (PARTITION BY user_id_for_mai ORDER BY week_num ASC) = week_num - 1 \n",
    "            THEN 1 ELSE 0 END as prev_week \n",
    "    FROM \n",
    "        row_stat\n",
    "    GROUP BY \n",
    "        user_id_for_mai, week_num, subsite_title\n",
    "    ORDER BY \n",
    "        user_id_for_mai, week_num, subsite_title ASC ) res\n",
    "GROUP BY week_num, subsite_title\n",
    "ORDER BY week_num, subsite_title ASC)\n",
    "\n",
    "SELECT\n",
    "    week_num,\n",
    "    subsite_title,\n",
    "    current_week_user_count, \n",
    "    returns,\n",
    "    LAG(current_week_user_count,2) OVER (ORDER BY week_num ASC) as prev_week_user_count,\n",
    "    returns/(LAG(current_week_user_count,2) OVER (ORDER BY week_num ASC))::float as retention\n",
    "FROM agg_stat\n",
    "\"\"\"\n",
    "# curr_week_user_count - число активных пользователей на текущей неделе\n",
    "# returns (from previous week) - число пользователей, активных и на текущей, и прошедшей неделе\n",
    "# retention = returns/prev_week_user_count\n",
    "\n",
    "retention_df = pd.read_sql(sql_str, engine)\n",
    "\n",
    "retention_df"
   ]
  },
  {
   "cell_type": "markdown",
   "metadata": {},
   "source": [
    "Постройте гистограмму ретеншна - на какой платформе лучше возвращаемость?"
   ]
  },
  {
   "cell_type": "code",
   "execution_count": 77,
   "metadata": {},
   "outputs": [
    {
     "data": {
      "text/plain": [
       "<AxesSubplot:ylabel='Frequency'>"
      ]
     },
     "execution_count": 77,
     "metadata": {},
     "output_type": "execute_result"
    },
    {
     "data": {
      "image/png": "[encoded data removed]",
      "text/plain": [
       "<Figure size 432x288 with 1 Axes>"
      ]
     },
     "metadata": {
      "needs_background": "light"
     },
     "output_type": "display_data"
    }
   ],
   "source": [
    "# ----- ВАШ КОД ТУТ  -------\n",
    "\n",
    "retention_df[\n",
    "    retention_df['subsite_title']=='Windows 10'\n",
    "]['retention'].plot(kind='hist', alpha=0.5, bins=13, label='Windows 10', legend=True)\n",
    "\n",
    "retention_df[\n",
    "    retention_df['subsite_title']=='xboxOne'\n",
    "]['retention'].plot(kind='hist', alpha=0.5, bins=13, label='xboxOne', legend=True)\n",
    "\n",
    "# --------------------------"
   ]
  },
  {
   "cell_type": "markdown",
   "metadata": {},
   "source": [
    "# Часть II статистические гипотезы"
   ]
  },
  {
   "cell_type": "markdown",
   "metadata": {},
   "source": [
    "### Задача 3: Предсказательный интервал\n",
    "\n",
    "пусть результат эксперимента представляет собой нормально распределённую СВ $X\\sim N(\\mu, \\sigma)$. Тогда предсказательный интервал имеет вид\n",
    "$$\n",
    "P\\left(\\mu - Z_{1-\\frac{\\alpha}{2}}\\sigma \\le X \\le \\mu + Z_{1-\\frac{\\alpha}{2}}\\sigma \\right) = 1 - \\alpha\n",
    "$$\n",
    "\n",
    "для тренировки сгенерируйте решите задачу: постройте предсказательный интервал для случайной величины $X\\sim N(\\mu, \\sigma)$:"
   ]
  },
  {
   "cell_type": "code",
   "execution_count": 13,
   "metadata": {},
   "outputs": [
    {
     "name": "stdout",
     "output_type": "stream",
     "text": [
      "z_05 = 3.2360324139139514, z_95 = 6.763967586086048\n"
     ]
    }
   ],
   "source": [
    "from scipy.stats import norm\n",
    "\n",
    "mu = 5\n",
    "sigma = 0.9\n",
    "alpha = 0.05\n",
    "# используйте функцию ppf - Percent point function (обратная к кумулятивной функции (функции вероятности) cdf)\n",
    "\n",
    "z_05 = mu - norm.ppf(q=1-alpha/2)*sigma\n",
    "z_95 = mu + norm.ppf(q=1-alpha/2)*sigma\n",
    "\n",
    "print(f\"z_05 = {z_05}, z_95 = {z_95}\")"
   ]
  },
  {
   "cell_type": "markdown",
   "metadata": {},
   "source": [
    "Проверка на правильность решения"
   ]
  },
  {
   "cell_type": "code",
   "execution_count": 5,
   "metadata": {},
   "outputs": [
    {
     "name": "stderr",
     "output_type": "stream",
     "text": [
      "test_task (__main__.TestNotebook) ... ok\n",
      "\n",
      "----------------------------------------------------------------------\n",
      "Ran 1 test in 0.002s\n",
      "\n",
      "OK\n"
     ]
    },
    {
     "data": {
      "text/plain": [
       "<unittest.main.TestProgram at 0x7fedc0529b00>"
      ]
     },
     "execution_count": 5,
     "metadata": {},
     "output_type": "execute_result"
    }
   ],
   "source": [
    "import unittest\n",
    "\n",
    "class TestNotebook(unittest.TestCase):\n",
    "    def test_task(self):\n",
    "        self.assertAlmostEqual(z_05, 3.5196, places=4)\n",
    "        self.assertAlmostEqual(z_95, 6.4804, places=4)\n",
    "\n",
    "unittest.main(argv=[''], verbosity=2, exit=False)"
   ]
  },
  {
   "cell_type": "markdown",
   "metadata": {},
   "source": [
    "### Задача 4: Доверительный интервал для математического ожидания гауссовской СВ.\n",
    "\n",
    "СВ $X\\sim N(\\mu, \\sigma)$, где $\\sigma$ известный параметр. По результатам эксперимента получили выборку $X^n = \\left( X_1,\\ldots,X_n \\right)$. Задача - оценить по выборке неизвестный параметр $\\mu$.\n",
    "\n",
    "Чтобы построить доверительный интервал параметра $\\mu$ в первую очередь нужно понять, какое распределение имеет параметр, который мы исследуем. В данном случае мы можем воспользоваться результатами ЦПТ:\n",
    "$$\n",
    "\\overline{X} \\sim N\\left(\\mu, \\frac{\\sigma^2}{n}\\right), \\overline{X} = \\frac{\\sum_{i=1}^{n}X_i}{n}\n",
    "$$\n",
    "\n",
    "где $\\overline{X}$ - среднее значение элементов выборки. В таком случае доверительный интервал имеет вид\n",
    "$$\n",
    "P\\left(\\overline{X} - z_{\\alpha/2}\\sqrt{\\sigma^2/n} \\le  \\mu \\le \\overline{X} + z_{\\alpha/2}\\sqrt{\\sigma^2/n}\\right) = 1 - \\alpha\n",
    "$$\n",
    "\n",
    "Для определения значения квантили можно пользоваться функцией `.ppf` из модуля `scipy.stats`."
   ]
  },
  {
   "cell_type": "code",
   "execution_count": 10,
   "metadata": {},
   "outputs": [
    {
     "name": "stdout",
     "output_type": "stream",
     "text": [
      "Оценка математического ожидания по выборке mu = [27.0178780082259, 28.13350906637411]\n"
     ]
    }
   ],
   "source": [
    "from scipy.stats import norm\n",
    "import numpy as np\n",
    "\n",
    "mu = 5\n",
    "sigma = 0.9\n",
    "X = np.array([13.27543316, 18.60619498, 28.64266817, 45.4103895, 10.08409655,\n",
    "     44.91948425, 47.23376343, 33.03988962, 31.45570219, 3.089313523])\n",
    "\n",
    "# используйте функцию ppf для нахождения квантили\n",
    "alpha = 0.05\n",
    "\n",
    "n = X.size\n",
    "left_border = X.mean() - norm.ppf(alpha/2) * np.sqrt(sigma**2 / n)\n",
    "right_border = X.mean() + norm.ppf(alpha/2) * np.sqrt(sigma**2 / n)\n",
    "\n",
    "print(f\"Оценка математического ожидания по выборке mu = [{left_border}, {right_border}]\")"
   ]
  },
  {
   "cell_type": "markdown",
   "metadata": {},
   "source": [
    "Тесты на решение"
   ]
  },
  {
   "cell_type": "code",
   "execution_count": 9,
   "metadata": {},
   "outputs": [
    {
     "name": "stderr",
     "output_type": "stream",
     "text": [
      "test_task (__main__.TestNotebook) ... ok\n",
      "\n",
      "----------------------------------------------------------------------\n",
      "Ran 1 test in 0.001s\n",
      "\n",
      "OK\n"
     ]
    },
    {
     "data": {
      "text/plain": [
       "<unittest.main.TestProgram at 0x7f571efe6c50>"
      ]
     },
     "execution_count": 9,
     "metadata": {},
     "output_type": "execute_result"
    }
   ],
   "source": [
    "import unittest\n",
    "\n",
    "class TestNotebook(unittest.TestCase):\n",
    "    def test_task(self):\n",
    "        self.assertAlmostEqual(left_border, 28.1335, places=4)\n",
    "        self.assertAlmostEqual(right_border, 27.0179, places=4)\n",
    "\n",
    "unittest.main(argv=[''], verbosity=2, exit=False)"
   ]
  },
  {
   "cell_type": "markdown",
   "metadata": {},
   "source": [
    "### Задача 5: конверсии\n",
    "\n",
    "#### Вычисление конверсии\n",
    "\n",
    "Посчитайте конверсию по выборке - нужно написать несложный код на python"
   ]
  },
  {
   "cell_type": "code",
   "execution_count": 18,
   "metadata": {},
   "outputs": [
    {
     "name": "stdout",
     "output_type": "stream",
     "text": [
      "0.77\n"
     ]
    }
   ],
   "source": [
    "import pickle\n",
    "\n",
    "with open('data/pool_sample.pkl', 'rb') as f:\n",
    "    pool_data = pickle.load(f)\n",
    "\n",
    "# ---- ВАШ КОД ТУТ ---\n",
    "\n",
    "conversion = sum(pool_data) / len(pool_data)\n",
    "print(conversion)\n",
    "\n",
    "# --------------------"
   ]
  },
  {
   "cell_type": "markdown",
   "metadata": {},
   "source": [
    "Тесты"
   ]
  },
  {
   "cell_type": "code",
   "execution_count": 19,
   "metadata": {},
   "outputs": [
    {
     "name": "stderr",
     "output_type": "stream",
     "text": [
      "test_task (__main__.TestNotebook) ... ok\n",
      "\n",
      "----------------------------------------------------------------------\n",
      "Ran 1 test in 0.001s\n",
      "\n",
      "OK\n"
     ]
    },
    {
     "data": {
      "text/plain": [
       "<unittest.main.TestProgram at 0x7f571f358ef0>"
      ]
     },
     "execution_count": 19,
     "metadata": {},
     "output_type": "execute_result"
    }
   ],
   "source": [
    "import unittest\n",
    "\n",
    "class TestNotebook(unittest.TestCase):\n",
    "    def test_task(self):\n",
    "        self.assertAlmostEqual(conversion, 0.77, places=2)\n",
    "\n",
    "unittest.main(argv=[''], verbosity=2, exit=False)"
   ]
  },
  {
   "cell_type": "markdown",
   "metadata": {},
   "source": [
    "#### Репрезентативный объём выборки\n",
    "\n",
    "Значение $n$ выборка будет репрезентативной:\n",
    "\n",
    "$$\n",
    "n = \\left( \\frac{Z_{1-\\frac{\\alpha}{2}}}{\\delta}\\right)^2pq\n",
    "$$\n",
    "\n",
    "Каким образом определить значения $p,q$:\n",
    "1. из прошлых исследований;\n",
    "1. еcли дополнительной информации нет, то выбрать $p=q=\\frac12$;\n",
    "1. если известен интервал для $p\\in[\\alpha, \\beta]$, то нужно выбирать значение, максимально близкое к $\\frac12$\n",
    "\n",
    "За кандидата собираются голосовать 30-40%. Сколько нужно опросить респондентов, чтобы оценить долю голосов за кандидата с точность $2\\%$.\n",
    "\n",
    "Написать функцию, которая рассчитывает объём репрезентативной выборки"
   ]
  },
  {
   "cell_type": "code",
   "execution_count": 38,
   "metadata": {},
   "outputs": [],
   "source": [
    "from math import ceil\n",
    "from scipy.stats import norm\n",
    "# подсказка - воспользуйтесь функцией math.ceil()\n",
    "\n",
    "def representative_sample_size(alpha, delta, p=None):\n",
    "    \"\"\"Функция для расчёта объёма репрезентативной выборки\n",
    "    \n",
    "    :param alpha: уровень доверия\n",
    "    :param delta: точность\n",
    "    :param p (list | int | None): теоретическая вероятность успеха \n",
    "    :return: \n",
    "    \"\"\"\n",
    "    # ---- ВАШ КОД ТУТ ---\n",
    "    n = (norm.ppf(q=1 - alpha / 2) / delta)**2 * p * (1 - p)\n",
    "    # --------------------\n",
    "    return ceil(n)\n",
    "\n",
    "sample_size = representative_sample_size(alpha=0.05, delta=0.03, p=0.4)"
   ]
  },
  {
   "cell_type": "markdown",
   "metadata": {},
   "source": [
    "Тесты"
   ]
  },
  {
   "cell_type": "code",
   "execution_count": 42,
   "metadata": {},
   "outputs": [
    {
     "name": "stderr",
     "output_type": "stream",
     "text": [
      "test_task (__main__.TestNotebook) ... ok\n",
      "\n",
      "----------------------------------------------------------------------\n",
      "Ran 1 test in 0.001s\n",
      "\n",
      "OK\n"
     ]
    },
    {
     "data": {
      "text/plain": [
       "<unittest.main.TestProgram at 0x7f571ee73e48>"
      ]
     },
     "execution_count": 42,
     "metadata": {},
     "output_type": "execute_result"
    }
   ],
   "source": [
    "import unittest\n",
    "\n",
    "sample_size = representative_sample_size(alpha=0.05, delta=0.03, p=0.4)\n",
    "\n",
    "class TestNotebook(unittest.TestCase):\n",
    "    def test_task(self):\n",
    "        self.assertEqual(sample_size, 1025)\n",
    "\n",
    "unittest.main(argv=[''], verbosity=2, exit=False)"
   ]
  },
  {
   "cell_type": "markdown",
   "metadata": {},
   "source": [
    "#### Моделирование данных\n",
    "\n",
    "Смоделируйте эксперимент с соц-опросом с помощью распределения Бернулли\n",
    "\n",
    "* сгенерируйте выборку того размера, который рассчитали\n",
    "* посчитайте прогнозируемый рейтинг кандидата "
   ]
  },
  {
   "cell_type": "code",
   "execution_count": 43,
   "metadata": {},
   "outputs": [
    {
     "name": "stdout",
     "output_type": "stream",
     "text": [
      "Размер выборки: 1025\n"
     ]
    },
    {
     "data": {
      "text/plain": [
       "0.3921951219512195"
      ]
     },
     "execution_count": 43,
     "metadata": {},
     "output_type": "execute_result"
    }
   ],
   "source": [
    "import scipy.stats as sts\n",
    "\n",
    "# ---- ВАШ КОД ТУТ ---\n",
    "\n",
    "p = 0.4  # задайте тут правильное значение\n",
    "print(f'Размер выборки: {sample_size}') # sample_size должна была сохраниться с предыдущей ячейки\n",
    "\n",
    "bernoulli_rv = sts.bernoulli(p) # эту часть менять не надо\n",
    "\n",
    "# поищите в документации как генерить выборки\n",
    "# вызовите правильный метод объекта bernoulli_rv\n",
    "# используйте параметр random_state = 42\n",
    "b = bernoulli_rv.rvs(size=sample_size, random_state=42)\n",
    "\n",
    "estimated_rating = b.mean()\n",
    "estimated_rating\n",
    "# --------------------\n",
    "\n"
   ]
  },
  {
   "cell_type": "code",
   "execution_count": 44,
   "metadata": {},
   "outputs": [
    {
     "name": "stdout",
     "output_type": "stream",
     "text": [
      "Help on method rvs in module scipy.stats._distn_infrastructure:\n",
      "\n",
      "rvs(*args, **kwargs) method of scipy.stats._discrete_distns.bernoulli_gen instance\n",
      "    Random variates of given type.\n",
      "    \n",
      "    Parameters\n",
      "    ----------\n",
      "    arg1, arg2, arg3,... : array_like\n",
      "        The shape parameter(s) for the distribution (see docstring of the\n",
      "        instance object for more information).\n",
      "    loc : array_like, optional\n",
      "        Location parameter (default=0).\n",
      "    size : int or tuple of ints, optional\n",
      "        Defining number of random variates (Default is 1).  Note that `size`\n",
      "        has to be given as keyword, not as positional argument.\n",
      "    random_state : {None, int, `~np.random.RandomState`, `~np.random.Generator`}, optional\n",
      "        This parameter defines the object to use for drawing random\n",
      "        variates.\n",
      "        If `random_state` is `None` the `~np.random.RandomState` singleton\n",
      "        is used.\n",
      "        If `random_state` is an int, a new ``RandomState`` instance is used,\n",
      "        seeded with random_state.\n",
      "        If `random_state` is already a ``RandomState`` or ``Generator``\n",
      "        instance, then that object is used.\n",
      "        Default is None.\n",
      "    \n",
      "    Returns\n",
      "    -------\n",
      "    rvs : ndarray or scalar\n",
      "        Random variates of given `size`.\n",
      "\n"
     ]
    }
   ],
   "source": [
    "help(sts.bernoulli.rvs)"
   ]
  },
  {
   "cell_type": "markdown",
   "metadata": {},
   "source": [
    "Тесты - проверяем рейтинг"
   ]
  },
  {
   "cell_type": "code",
   "execution_count": 45,
   "metadata": {},
   "outputs": [
    {
     "name": "stderr",
     "output_type": "stream",
     "text": [
      "test_task (__main__.TestNotebook) ... ok\n",
      "\n",
      "----------------------------------------------------------------------\n",
      "Ran 1 test in 0.001s\n",
      "\n",
      "OK\n"
     ]
    },
    {
     "data": {
      "text/plain": [
       "<unittest.main.TestProgram at 0x7f571ee73b38>"
      ]
     },
     "execution_count": 45,
     "metadata": {},
     "output_type": "execute_result"
    }
   ],
   "source": [
    "import unittest\n",
    "\n",
    "class TestNotebook(unittest.TestCase):\n",
    "    def test_task(self):\n",
    "        self.assertAlmostEqual(estimated_rating, 0.3922, places=4)\n",
    "\n",
    "unittest.main(argv=[''], verbosity=2, exit=False)"
   ]
  },
  {
   "cell_type": "markdown",
   "metadata": {},
   "source": [
    "## Задача на одновыборочный z-критерий\n",
    "\n",
    "\n",
    "Статиcтика критерия:\n",
    "$$\n",
    "Z(X^n) = \\frac{\\overline{X}- μ_0}{\\frac{\\sigma}{\\sqrt{n}}}\n",
    "$$\n",
    "\n",
    "Нулевое распределение: \n",
    "$$\n",
    "Z(X^n) \\sim N(0,1)\n",
    "$$\n",
    "\n",
    "На уровне значимости $\\alpha$ гипотеза $H_0$ отвергается при значении статистики $Z(X^n)=z$ таком, что $z \\lt z_\\alpha$, где $z_\\alpha$ - значение квантили нормального распределения уровня $\\alpha$.\n",
    "\n",
    "\n",
    "Средняя масса детей в неблагополучных семьях при рождении 2.8 кг.\n",
    "В экспериментальной программе ведения беременности участвовали 25 женщин.\t\n",
    "Средний вес младенцев в экспериментальной группе составил 3.075 кг.\n",
    "Является ли данное отклонение статистически значимым на уровне доверительной вероятности $\\alpha=0.05$? Исходя из прошлых иследований известно, что вес имеет нормальное распределение с $\\sigma = 0.5$\n",
    "\n",
    "Основная гипотеза H0:\t\tX_среднее = 2.8\n",
    "\n",
    "Альтернативная гипотеза H1\t\tX_среднее > 2.8"
   ]
  },
  {
   "cell_type": "code",
   "execution_count": 50,
   "metadata": {},
   "outputs": [
    {
     "name": "stdout",
     "output_type": "stream",
     "text": [
      "Является ли отклонение значимым: True, значение статистики Z_x 2.75\n"
     ]
    }
   ],
   "source": [
    "from scipy.stats import norm\n",
    "\n",
    "# Размер выборки\n",
    "n = 25\n",
    "# С.К.О.\n",
    "sigma = 0.5\n",
    "# Уровень доверия \n",
    "alpha = 0.05\n",
    "# Значение квантили\n",
    "z_095 = norm.ppf(q=1-alpha)\n",
    "# Ср. знач. в ген. совокупности\n",
    "global_mean = 2.8\n",
    "# Ср. знач. в эксперименте\n",
    "sample_mean = 3.075\n",
    "\n",
    "# ---- ВАШ КОД ТУТ ---\n",
    "\n",
    "# Считаем статистику\n",
    "Z_x = (sample_mean - global_mean) / (sigma / np.sqrt(n))\n",
    "# Критическая область:\n",
    "Z_critical = z_095\n",
    "print(\"Является ли отклонение значимым: {}, значение статистики Z_x {:.2f}\".format(Z_x > Z_critical, Z_x))\n",
    "\n",
    "\n",
    "# --------------------"
   ]
  },
  {
   "cell_type": "markdown",
   "metadata": {},
   "source": [
    "Тесты - проверяем, что правильно вычислено значение статистики"
   ]
  },
  {
   "cell_type": "code",
   "execution_count": 51,
   "metadata": {},
   "outputs": [
    {
     "name": "stderr",
     "output_type": "stream",
     "text": [
      "test_task (__main__.TestNotebook) ... ok\n",
      "\n",
      "----------------------------------------------------------------------\n",
      "Ran 1 test in 0.001s\n",
      "\n",
      "OK\n"
     ]
    },
    {
     "data": {
      "text/plain": [
       "<unittest.main.TestProgram at 0x7f571f1c3b70>"
      ]
     },
     "execution_count": 51,
     "metadata": {},
     "output_type": "execute_result"
    }
   ],
   "source": [
    "import unittest\n",
    "\n",
    "class TestNotebook(unittest.TestCase):\n",
    "    def test_task(self):\n",
    "        self.assertAlmostEqual(Z_x, 2.75, places=2)\n",
    "\n",
    "unittest.main(argv=[''], verbosity=2, exit=False)"
   ]
  },
  {
   "cell_type": "markdown",
   "metadata": {},
   "source": [
    "### Задача на проверку z-критерия\n",
    "\n",
    "На прошедшей неделе в рекламной сети параллельно размещалось два баннера Яндекс.Такси. Оба баннера были показаны один миллион раз. Первый получил 10 000 кликов и 500 установок, а второй — 10 500 кликов и 440 установок. Маркетолог просит у вас совета: какой баннер оставить, а какой отключить? Что вы ему ответите?\n",
    "\n",
    "Статистика критерия\n",
    "$$\n",
    "Z(X^{n_1}, X^{n_2}) = \\frac{\\hat{p}_1 - \\hat{p}_2}{\\sqrt{\\hat{p}(1-\\hat{p})\\left(\\frac{1}{n_1} + \\frac{1}{n_2}\\right)}}, Z(X^{n_1}, X^{n_2}) \\sim (N(0,1)\n",
    "$$\n",
    "\n",
    "где $\\hat{p}_{(1,2)}$ - доля успехов в выборках 1 и 2 и\n",
    "$$\n",
    "\\hat{p}=\\frac{(p_1n_1+ p_2n_2  )}{n_1+ n_2}\n",
    "$$\n"
   ]
  },
  {
   "cell_type": "code",
   "execution_count": 62,
   "metadata": {},
   "outputs": [
    {
     "name": "stdout",
     "output_type": "stream",
     "text": [
      "Верная ли нулевая гипотеза о равенстве долей: True. T_x = 2.7698\n"
     ]
    }
   ],
   "source": [
    "from scipy.stats import norm\n",
    "\n",
    "#banner 1\n",
    "n1_click = 10000\n",
    "n1_installs = 500\n",
    "\n",
    "#banner 2\n",
    "n2_click = 10500\n",
    "n2_installs = 440\n",
    "\n",
    "# ctr\n",
    "p1 = n1_installs/n1_click\n",
    "p2 = n2_installs/n2_click\n",
    "\n",
    "p = (p1*n1_click + p2*n2_click)/(n1_click + n2_click)\n",
    "# значение статистики критерия\n",
    "T_x = (p1 - p2) / np.sqrt(p*(1 - p)*(1/n1_click + 1/n2_click))\n",
    "\n",
    "# квантиль уровня 0.95 нормального распределения\n",
    "z_095 = norm.ppf(q=0.95)\n",
    "\n",
    "print(\"Верная ли нулевая гипотеза о равенстве долей: {}. T_x = {:.4f}\".format(T_x > z_095, T_x))"
   ]
  },
  {
   "cell_type": "markdown",
   "metadata": {},
   "source": [
    "Тесты - проверяем, что правильно вычислено значение статистики"
   ]
  },
  {
   "cell_type": "code",
   "execution_count": 63,
   "metadata": {},
   "outputs": [
    {
     "name": "stderr",
     "output_type": "stream",
     "text": [
      "test_task (__main__.TestNotebook) ... ok\n",
      "\n",
      "----------------------------------------------------------------------\n",
      "Ran 1 test in 0.001s\n",
      "\n",
      "OK\n"
     ]
    },
    {
     "data": {
      "text/plain": [
       "<unittest.main.TestProgram at 0x7f571ee20748>"
      ]
     },
     "execution_count": 63,
     "metadata": {},
     "output_type": "execute_result"
    }
   ],
   "source": [
    "import unittest\n",
    "\n",
    "class TestNotebook(unittest.TestCase):\n",
    "    def test_task(self):\n",
    "        self.assertAlmostEqual(T_x, 2.7698, places=4)\n",
    "\n",
    "unittest.main(argv=[''], verbosity=2, exit=False)"
   ]
  },
  {
   "cell_type": "markdown",
   "metadata": {},
   "source": [
    "### Проверка продуктовых гипотез\n",
    "\n",
    "Вернитесь к I части этой домашней работы. Проверьте с помощь статистических критерий несколько гипотез\n",
    "\n",
    "* конверсия на Windows выше, чем на XboX\n",
    "* конверсия в Украине  отличается от конверсии в России\n",
    "* retention на XboX ниже, чем retention на Windows 10\n",
    "\n",
    "Для проверки пользуйтесь готовыми критериями из статистических пакетов python\n"
   ]
  },
  {
   "cell_type": "markdown",
   "metadata": {},
   "source": [
    "#### конверсия в Украине отличается от конверсии в России"
   ]
  },
  {
   "cell_type": "code",
   "execution_count": 108,
   "metadata": {},
   "outputs": [
    {
     "data": {
      "text/plain": [
       "(-0.5992335784301387, 0.5490171339567413)"
      ]
     },
     "execution_count": 108,
     "metadata": {},
     "output_type": "execute_result"
    }
   ],
   "source": [
    "import scipy.stats as sts\n",
    "\n",
    "# ---- ВАШ КОД ТУТ ---\n",
    "from statsmodels.stats.weightstats import ztest\n",
    "#scipy.stats.ttest_1samp\n",
    "# --------------------\n",
    "x1 = conversion_df_UR[conversion_df_UR['country']=='Россия']['conversion']\n",
    "x2 = conversion_df_UR[conversion_df_UR['country']=='Украина']['conversion']\n",
    "res = ztest(x1=x1, x2=x2)\n",
    "res[0], res[1], res[0] != res[1]"
   ]
  },
  {
   "cell_type": "code",
   "execution_count": 105,
   "metadata": {},
   "outputs": [
    {
     "name": "stdout",
     "output_type": "stream",
     "text": [
      "Ttest_indResult(statistic=-0.5992335784301387, pvalue=0.565596414618841)\n",
      "Ttest_indResult(statistic=-0.5992335784301387, pvalue=0.5796220740596149)\n",
      "False\n"
     ]
    }
   ],
   "source": [
    "from scipy import stats\n",
    "\n",
    "x = conversion_df_UR[conversion_df_UR['country']=='Россия']['conversion']\n",
    "\n",
    "y = conversion_df_UR[conversion_df_UR['country']=='Украина']['conversion']\n",
    "\n",
    "res_equal = stats.ttest_ind(x, y, equal_var=True)\n",
    "res_nequal = stats.ttest_ind(x, y, equal_var=False)\n",
    "print(res_equal, res_nequal, res_equal == res_nequal, sep='\\n')"
   ]
  },
  {
   "cell_type": "markdown",
   "metadata": {},
   "source": [
    "#### конверсия на Windows выше, чем на XboX"
   ]
  },
  {
   "cell_type": "code",
   "execution_count": 95,
   "metadata": {},
   "outputs": [
    {
     "data": {
      "text/plain": [
       "(13.434359695174058, 3.8034390896798466e-41, True)"
      ]
     },
     "execution_count": 95,
     "metadata": {},
     "output_type": "execute_result"
    }
   ],
   "source": [
    "x1 = conversion_df_WX[conversion_df_WX['subsite_title']=='Windows 10']['conversion']\n",
    "x2 = conversion_df_WX[conversion_df_WX['subsite_title']=='xboxOne']['conversion']\n",
    "res = ztest(x1=x1, x2=x2)\n",
    "res[0], res[1], res[0] > res[1]"
   ]
  },
  {
   "cell_type": "markdown",
   "metadata": {},
   "source": [
    "#### retention на XboX ниже, чем retention на Windows 10"
   ]
  },
  {
   "cell_type": "code",
   "execution_count": 115,
   "metadata": {},
   "outputs": [
    {
     "data": {
      "text/plain": [
       "(-6.227039026686142, 4.753327488447313e-10, False)"
      ]
     },
     "execution_count": 115,
     "metadata": {},
     "output_type": "execute_result"
    }
   ],
   "source": [
    "x1 = retention_df[retention_df['subsite_title']=='Windows 10']['retention']\n",
    "x2 = retention_df[retention_df['subsite_title']=='xboxOne']['retention']\n",
    "\n",
    "#уберем Nan значения \n",
    "x1 = x1.dropna()\n",
    "x2 = x2.dropna()\n",
    "\n",
    "res = ztest(x1=x1, x2=x2)\n",
    "res[0], res[1], res[0] > res[1]"
   ]
  },
  {
   "cell_type": "code",
   "execution_count": 3,
   "metadata": {},
   "outputs": [
    {
     "name": "stdout",
     "output_type": "stream",
     "text": [
      "Help on function ztest in module statsmodels.stats.weightstats:\n",
      "\n",
      "ztest(x1, x2=None, value=0, alternative='two-sided', usevar='pooled', ddof=1.0)\n",
      "    test for mean based on normal distribution, one or two samples\n",
      "    \n",
      "    In the case of two samples, the samples are assumed to be independent.\n",
      "    \n",
      "    Parameters\n",
      "    ----------\n",
      "    x1 : array_like, 1-D or 2-D\n",
      "        first of the two independent samples\n",
      "    x2 : array_like, 1-D or 2-D\n",
      "        second of the two independent samples\n",
      "    value : float\n",
      "        In the one sample case, value is the mean of x1 under the Null\n",
      "        hypothesis.\n",
      "        In the two sample case, value is the difference between mean of x1 and\n",
      "        mean of x2 under the Null hypothesis. The test statistic is\n",
      "        `x1_mean - x2_mean - value`.\n",
      "    alternative : str\n",
      "        The alternative hypothesis, H1, has to be one of the following\n",
      "    \n",
      "           'two-sided': H1: difference in means not equal to value (default)\n",
      "           'larger' :   H1: difference in means larger than value\n",
      "           'smaller' :  H1: difference in means smaller than value\n",
      "    \n",
      "    usevar : str, 'pooled'\n",
      "        Currently, only 'pooled' is implemented.\n",
      "        If ``pooled``, then the standard deviation of the samples is assumed to be\n",
      "        the same. see CompareMeans.ztest_ind for different options.\n",
      "    ddof : int\n",
      "        Degrees of freedom use in the calculation of the variance of the mean\n",
      "        estimate. In the case of comparing means this is one, however it can\n",
      "        be adjusted for testing other statistics (proportion, correlation)\n",
      "    \n",
      "    Returns\n",
      "    -------\n",
      "    tstat : float\n",
      "        test statistic\n",
      "    pvalue : float\n",
      "        pvalue of the t-test\n",
      "    \n",
      "    Notes\n",
      "    -----\n",
      "    usevar not implemented, is always pooled in two sample case\n",
      "    use CompareMeans instead.\n",
      "\n"
     ]
    }
   ],
   "source": [
    "import statsmodels.stats.weightstats\n",
    "help(statsmodels.stats.weightstats.ztest)"
   ]
  },
  {
   "cell_type": "code",
   "execution_count": 96,
   "metadata": {},
   "outputs": [
    {
     "name": "stdout",
     "output_type": "stream",
     "text": [
      "Ttest_indResult(statistic=0.914952019225675, pvalue=0.36751280326452773)\n",
      "Ttest_indResult(statistic=0.914952019225675, pvalue=0.36751503743577896)\n"
     ]
    }
   ],
   "source": [
    "from scipy import stats\n",
    "\n",
    "x = [2.06,2.08,1.88,1.91,\n",
    "2.06,2.01,1.98,2.13,2.01,2.06,2.01,\n",
    "2.13,2.11,2.01,2.06,2.01]\n",
    "\n",
    "y = [1.91,1.96,2.06,1.91,\n",
    "1.96,2.03,2.03,2.01,2.08,2.06,2.03,\n",
    "2.08,1.88,1.98,2.06,2.11]\n",
    "\n",
    "print( stats.ttest_ind(x, y, equal_var=True) )\n",
    "print( stats.ttest_ind(x, y, equal_var=False) )"
   ]
  },
  {
   "cell_type": "code",
   "execution_count": 98,
   "metadata": {},
   "outputs": [
    {
     "name": "stdout",
     "output_type": "stream",
     "text": [
      "Help on function ttest_ind in module scipy.stats.stats:\n",
      "\n",
      "ttest_ind(a, b, axis=0, equal_var=True, nan_policy='propagate')\n",
      "    Calculate the T-test for the means of *two independent* samples of scores.\n",
      "    \n",
      "    This is a two-sided test for the null hypothesis that 2 independent samples\n",
      "    have identical average (expected) values. This test assumes that the\n",
      "    populations have identical variances by default.\n",
      "    \n",
      "    Parameters\n",
      "    ----------\n",
      "    a, b : array_like\n",
      "        The arrays must have the same shape, except in the dimension\n",
      "        corresponding to `axis` (the first, by default).\n",
      "    axis : int or None, optional\n",
      "        Axis along which to compute test. If None, compute over the whole\n",
      "        arrays, `a`, and `b`.\n",
      "    equal_var : bool, optional\n",
      "        If True (default), perform a standard independent 2 sample test\n",
      "        that assumes equal population variances [1]_.\n",
      "        If False, perform Welch's t-test, which does not assume equal\n",
      "        population variance [2]_.\n",
      "    \n",
      "        .. versionadded:: 0.11.0\n",
      "    nan_policy : {'propagate', 'raise', 'omit'}, optional\n",
      "        Defines how to handle when input contains nan.\n",
      "        The following options are available (default is 'propagate'):\n",
      "    \n",
      "          * 'propagate': returns nan\n",
      "          * 'raise': throws an error\n",
      "          * 'omit': performs the calculations ignoring nan values\n",
      "    \n",
      "    Returns\n",
      "    -------\n",
      "    statistic : float or array\n",
      "        The calculated t-statistic.\n",
      "    pvalue : float or array\n",
      "        The two-tailed p-value.\n",
      "    \n",
      "    Notes\n",
      "    -----\n",
      "    We can use this test, if we observe two independent samples from\n",
      "    the same or different population, e.g. exam scores of boys and\n",
      "    girls or of two ethnic groups. The test measures whether the\n",
      "    average (expected) value differs significantly across samples. If\n",
      "    we observe a large p-value, for example larger than 0.05 or 0.1,\n",
      "    then we cannot reject the null hypothesis of identical average scores.\n",
      "    If the p-value is smaller than the threshold, e.g. 1%, 5% or 10%,\n",
      "    then we reject the null hypothesis of equal averages.\n",
      "    \n",
      "    References\n",
      "    ----------\n",
      "    .. [1] https://en.wikipedia.org/wiki/T-test#Independent_two-sample_t-test\n",
      "    \n",
      "    .. [2] https://en.wikipedia.org/wiki/Welch%27s_t-test\n",
      "    \n",
      "    Examples\n",
      "    --------\n",
      "    >>> from scipy import stats\n",
      "    >>> np.random.seed(12345678)\n",
      "    \n",
      "    Test with sample with identical means:\n",
      "    \n",
      "    >>> rvs1 = stats.norm.rvs(loc=5,scale=10,size=500)\n",
      "    >>> rvs2 = stats.norm.rvs(loc=5,scale=10,size=500)\n",
      "    >>> stats.ttest_ind(rvs1,rvs2)\n",
      "    (0.26833823296239279, 0.78849443369564776)\n",
      "    >>> stats.ttest_ind(rvs1,rvs2, equal_var = False)\n",
      "    (0.26833823296239279, 0.78849452749500748)\n",
      "    \n",
      "    `ttest_ind` underestimates p for unequal variances:\n",
      "    \n",
      "    >>> rvs3 = stats.norm.rvs(loc=5, scale=20, size=500)\n",
      "    >>> stats.ttest_ind(rvs1, rvs3)\n",
      "    (-0.46580283298287162, 0.64145827413436174)\n",
      "    >>> stats.ttest_ind(rvs1, rvs3, equal_var = False)\n",
      "    (-0.46580283298287162, 0.64149646246569292)\n",
      "    \n",
      "    When n1 != n2, the equal variance t-statistic is no longer equal to the\n",
      "    unequal variance t-statistic:\n",
      "    \n",
      "    >>> rvs4 = stats.norm.rvs(loc=5, scale=20, size=100)\n",
      "    >>> stats.ttest_ind(rvs1, rvs4)\n",
      "    (-0.99882539442782481, 0.3182832709103896)\n",
      "    >>> stats.ttest_ind(rvs1, rvs4, equal_var = False)\n",
      "    (-0.69712570584654099, 0.48716927725402048)\n",
      "    \n",
      "    T-test with different means, variance, and n:\n",
      "    \n",
      "    >>> rvs5 = stats.norm.rvs(loc=8, scale=20, size=100)\n",
      "    >>> stats.ttest_ind(rvs1, rvs5)\n",
      "    (-1.4679669854490653, 0.14263895620529152)\n",
      "    >>> stats.ttest_ind(rvs1, rvs5, equal_var = False)\n",
      "    (-0.94365973617132992, 0.34744170334794122)\n",
      "\n"
     ]
    }
   ],
   "source": [
    "help(stats.ttest_ind)"
   ]
  },
  {
   "cell_type": "code",
   "execution_count": null,
   "metadata": {},
   "outputs": [],
   "source": []
  }
 ],
 "metadata": {
  "kernelspec": {
   "display_name": "Python 3",
   "language": "python",
   "name": "python3"
  },
  "language_info": {
   "codemirror_mode": {
    "name": "ipython",
    "version": 3
   },
   "file_extension": ".py",
   "mimetype": "text/x-python",
   "name": "python",
   "nbconvert_exporter": "python",
   "pygments_lexer": "ipython3",
   "version": "3.6.9"
  }
 },
 "nbformat": 4,
 "nbformat_minor": 4
}
