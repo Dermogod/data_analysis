{
 "cells": [
  {
   "cell_type": "markdown",
   "metadata": {},
   "source": [
    "### МАИ\n",
    "### ФИО студента: Меркулов Лев Владимирович\n",
    "### группа: Т120-101М-20\n",
    "### ФИО руководителя: Джумурат Александр\n",
    "### дата: 15.02.2021\n",
    "### Анализ данных, ДЗ № 1\n",
    "### Москва, 2021 г."
   ]
  },
  {
   "cell_type": "markdown",
   "metadata": {},
   "source": [
    "Рассмотрим трафик на карточке с фильмом в ivi. На прямые переходы из поисковых сист приходится в два раза больше трафика, чем на  просмотры из центрального промо-блока.\n",
    "\n",
    "При этом конверсия в просмотр при прямом заходе составляет 0.1, а конверсия в просмотр при переходе с ЦПБ 0.3. Найти вероятность того, что случайно зашедший пользователь совершит просмотр."
   ]
  },
  {
   "cell_type": "code",
   "execution_count": 14,
   "metadata": {},
   "outputs": [
    {
     "data": {
      "text/plain": [
       "0.16666666666666666"
      ]
     },
     "execution_count": 14,
     "metadata": {},
     "output_type": "execute_result"
    }
   ],
   "source": [
    "# ---- ВАШ КОД ТУТ ---\n",
    "\n",
    "# событие A - польз-ль совершит просмотр\n",
    "# гипотезы: B1- переход с поиск системы - 67%, B2 - переход с ЦПБ - 33%\n",
    "# P(A) = 2/3 * 0.1 + 1/3 * 0.3\n",
    "\n",
    "def task_1():\n",
    "    p = 2/3 * 0.1 + 1/3 * 0.3    \n",
    "    return p\n",
    "task_1()"
   ]
  },
  {
   "cell_type": "code",
   "execution_count": null,
   "metadata": {},
   "outputs": [],
   "source": []
  }
 ],
 "metadata": {
  "kernelspec": {
   "display_name": "Python 3",
   "language": "python",
   "name": "python3"
  },
  "language_info": {
   "codemirror_mode": {
    "name": "ipython",
    "version": 3
   },
   "file_extension": ".py",
   "mimetype": "text/x-python",
   "name": "python",
   "nbconvert_exporter": "python",
   "pygments_lexer": "ipython3",
   "version": "3.6.9"
  }
 },
 "nbformat": 4,
 "nbformat_minor": 4
}
